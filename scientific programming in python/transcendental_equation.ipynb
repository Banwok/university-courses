{
 "cells": [
  {
   "cell_type": "markdown",
   "metadata": {},
   "source": [
    "# Выплаты по кредиту. Решение трансцендентного уравнения"
   ]
  },
  {
   "cell_type": "markdown",
   "metadata": {},
   "source": [
    "## Условие"
   ]
  },
  {
   "cell_type": "markdown",
   "metadata": {},
   "source": [
    "Предположим, что кто-то желает взять кредит на сумму $\\$100000$.\n",
    "Он выбирает среди следующих возможностей:\n",
    "\n",
    " 1) взять кредит на $10$ лет с ежемесячными выплатами в $\\$1500$;\n",
    " \n",
    " 2) взять кредит на $15$ лет с ежемесячными выплатами в $\\$1250$;\n",
    " \n",
    " 3) взять кредит на $20$ лет с ежемесячными выплатами в $\\$1160$.\n",
    "\n",
    "Какой кредит выгоднее брать?\n",
    "\n",
    "Можно просто вычислить переплату, а можно еще учесть процентные ставки.\n",
    "\n",
    "Сами процентные ставки здесь не указаны, но можно их найти из *основного финансового уравнения*:\n",
    "\n",
    "$$\n",
    "{\\rm PV}\\, (1+i)^n + {\\rm PMT}\\, (1+i)^{n-1} + {\\rm PMT}\\, (1+i)^{n-2} + \\dots + {\\rm PMT} + {\\rm FV} = 0, \\tag{1}\n",
    "$$\n",
    "связывающего следующие величины:\n",
    " - ${\\rm PV}$ - величина кредита (present value);\n",
    " - ${\\rm FV}$ - баланс после $n$ платежей (future value);\n",
    " - ${\\rm PMT}$ - величина периодического платежа со знаком минус (payment);\n",
    " - $n$ - количество платежей;\n",
    " - $i$ - процентная ставка (interest rate).\n",
    " \n",
    "Используя формулу для суммы элементов геометрической прогрессии, уравнение (1) запишем в следующем виде:\n",
    "$$\n",
    "{\\rm PV}\\, (1+i)^n + {\\rm PMT}\\, \\frac{(1+i)^n - 1}{i} + {\\rm FV} = 0, \\tag{2}\n",
    "$$\n",
    "Относительно $i$ это уравнение в общем случае аналитические решено быть не может, поэтому надо использовать численные методы."
   ]
  },
  {
   "cell_type": "markdown",
   "metadata": {},
   "source": [
    "## Цель работы"
   ]
  },
  {
   "cell_type": "markdown",
   "metadata": {},
   "source": [
    " 1. Написать функцию, решающее уравнение (2). Ваша функция должна вызывать `scipy.optimize.brentq`. Можете воспользоваться другим методом. Обоснуйте свой выбор. \n",
    " 2. Рассчитать годовые процентные ставки для примеров 1)-3). Годовая процентная ставка равна $i_{\\rm year}=mi$, где $m$ - количество платежей в год (в нашем случае $m=12$).\n",
    " 3. Сравнить процентные ставки. Какой кредитный план выбрали бы вы?"
   ]
  },
  {
   "cell_type": "markdown",
   "metadata": {},
   "source": [
    "## Решение"
   ]
  },
  {
   "cell_type": "code",
   "execution_count": 1,
   "metadata": {},
   "outputs": [],
   "source": [
    "import numpy as np\n",
    "import scipy as sp\n",
    "from scipy.optimize import brentq"
   ]
  },
  {
   "cell_type": "markdown",
   "metadata": {},
   "source": [
    "Проинициализируем переменные, для основного финансового уравнения (1):"
   ]
  },
  {
   "cell_type": "code",
   "execution_count": 2,
   "metadata": {},
   "outputs": [],
   "source": [
    "pv = 100000\n",
    "fv = 0\n",
    "pmt1 = -1500\n",
    "n1 = 10 * 12\n",
    "pmt2 = -1250\n",
    "n2 = 15 * 12\n",
    "pmt3 = -1160\n",
    "n3 = 20 * 12"
   ]
  },
  {
   "cell_type": "markdown",
   "metadata": {},
   "source": [
    "Напишем функции, решающее уравнение (2) для 3 вариантов кредита:"
   ]
  },
  {
   "cell_type": "code",
   "execution_count": 3,
   "metadata": {},
   "outputs": [],
   "source": [
    "def fun1(i):\n",
    "    return pv*(1+i)**n1 + pmt1*(((1+i)**n1-1)/i) + fv \n",
    "def fun2(i):\n",
    "    return pv*(1+i)**n2 + pmt2*(((1+i)**n2-1)/i) + fv \n",
    "def fun3(i):\n",
    "    return pv*(1+i)**n3 + pmt3*(((1+i)**n3-1)/i) + fv "
   ]
  },
  {
   "cell_type": "markdown",
   "metadata": {},
   "source": [
    "Для решения уравнения (1) в задании рекомендуется вызывать `scipy.optimize.brentq(f, a, b)`. Функция использует классический метод Брента для нахождения нуля функции f на интервале смены знака [a, b]. Обычно считается лучшей из процедур поиска корня."
   ]
  },
  {
   "cell_type": "code",
   "execution_count": 4,
   "metadata": {},
   "outputs": [
    {
     "data": {
      "text/plain": [
       "0.010930603939868333"
      ]
     },
     "execution_count": 4,
     "metadata": {},
     "output_type": "execute_result"
    }
   ],
   "source": [
    "sol1 = brentq(fun1, 0.01, 1.0)\n",
    "sol1"
   ]
  },
  {
   "cell_type": "code",
   "execution_count": 5,
   "metadata": {},
   "outputs": [
    {
     "data": {
      "text/plain": [
       "0.01063980717924384"
      ]
     },
     "execution_count": 5,
     "metadata": {},
     "output_type": "execute_result"
    }
   ],
   "source": [
    "sol2 = brentq(fun2, 0.01, 1.0)\n",
    "sol2"
   ]
  },
  {
   "cell_type": "code",
   "execution_count": 6,
   "metadata": {},
   "outputs": [
    {
     "data": {
      "text/plain": [
       "0.010697698792848072"
      ]
     },
     "execution_count": 6,
     "metadata": {},
     "output_type": "execute_result"
    }
   ],
   "source": [
    "sol3 = brentq(fun3, 0.01, 1.0)\n",
    "sol3"
   ]
  },
  {
   "cell_type": "markdown",
   "metadata": {},
   "source": [
    "Напишем функцию решающующую, уравненение (1)"
   ]
  },
  {
   "cell_type": "code",
   "execution_count": 7,
   "metadata": {},
   "outputs": [],
   "source": [
    "def solve_fun(pv, pmt, n, fv):\n",
    "    def fun(i):\n",
    "        return pv*(1+i)**n + pmt*((((1+i)**n)-1)/i) + fv\n",
    "    return brentq(fun, 0.001, 1.0)"
   ]
  },
  {
   "cell_type": "markdown",
   "metadata": {},
   "source": [
    "Посчитаем ежемесячный процент, для каждого варианта"
   ]
  },
  {
   "cell_type": "code",
   "execution_count": 8,
   "metadata": {},
   "outputs": [
    {
     "name": "stdout",
     "output_type": "stream",
     "text": [
      "0.010930603939868333\n",
      "0.010930603939676818\n"
     ]
    }
   ],
   "source": [
    "i1 = solve_fun(pv, pmt1, n1, fv)\n",
    "print(sol1)\n",
    "print(i1)"
   ]
  },
  {
   "cell_type": "code",
   "execution_count": 9,
   "metadata": {},
   "outputs": [
    {
     "name": "stdout",
     "output_type": "stream",
     "text": [
      "0.01063980717924384\n",
      "0.01063980717901046\n"
     ]
    }
   ],
   "source": [
    "i2= solve_fun(pv, pmt2, n2, fv)\n",
    "print(sol2)\n",
    "print(i2)"
   ]
  },
  {
   "cell_type": "code",
   "execution_count": 10,
   "metadata": {},
   "outputs": [
    {
     "name": "stdout",
     "output_type": "stream",
     "text": [
      "0.010697698792848072\n",
      "0.010697698792974464\n"
     ]
    }
   ],
   "source": [
    "i3= solve_fun(pv, pmt3, n3, fv)\n",
    "print(sol3)\n",
    "print(i3)"
   ]
  },
  {
   "cell_type": "markdown",
   "metadata": {},
   "source": [
    "Вычислим годовой процент"
   ]
  },
  {
   "cell_type": "code",
   "execution_count": 11,
   "metadata": {},
   "outputs": [
    {
     "name": "stdout",
     "output_type": "stream",
     "text": [
      "Кредит на 10 лет, годовая ставка = 13.11672472761218 %\n",
      "Кредит на 15 лет, годовая ставка = 12.767768614812553 %\n",
      "Кредит на 20 лет, годовая ставка = 12.837238551569358 %\n"
     ]
    }
   ],
   "source": [
    "iy1 = 12*i1\n",
    "iy2 = 12*i2\n",
    "iy3 = 12*i3\n",
    "print(\"Кредит на 10 лет, годовая ставка =\", iy1*100,'%')\n",
    "print(\"Кредит на 15 лет, годовая ставка =\", iy2*100,'%')\n",
    "print(\"Кредит на 20 лет, годовая ставка =\", iy3*100,'%')"
   ]
  },
  {
   "cell_type": "markdown",
   "metadata": {},
   "source": [
    "## Вывод"
   ]
  },
  {
   "cell_type": "markdown",
   "metadata": {},
   "source": [
    "Годовые ставки для кредита на сумму $\\$100000$. составили:\n",
    "* $13.12 \\% $ для варианта 1\n",
    "* $12.77 \\% $ для варианта 2\n",
    "* $12.84 \\% $ для варианта 3\n",
    "\n",
    "Конечно, брать кредит на 15 лет,не хотелось бы. Но из данных вариантов наиболее выгодным в плане годовой ставки является 2 вариант. Так что я бы выбрал именно его."
   ]
  }
 ],
 "metadata": {
  "kernelspec": {
   "display_name": "Python 3",
   "language": "python",
   "name": "python3"
  },
  "language_info": {
   "codemirror_mode": {
    "name": "ipython",
    "version": 3
   },
   "file_extension": ".py",
   "mimetype": "text/x-python",
   "name": "python",
   "nbconvert_exporter": "python",
   "pygments_lexer": "ipython3",
   "version": "3.8.5"
  }
 },
 "nbformat": 4,
 "nbformat_minor": 4
}
